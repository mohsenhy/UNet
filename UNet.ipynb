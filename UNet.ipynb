{
 "cells": [
  {
   "cell_type": "code",
   "execution_count": 3,
   "metadata": {},
   "outputs": [],
   "source": [
    "import tensorflow as tf\n",
    "from tensorflow import keras\n"
   ]
  },
  {
   "cell_type": "code",
   "execution_count": null,
   "metadata": {},
   "outputs": [],
   "source": [
    "inputs = tf.keras.layers.Input((512,512,3))\n",
    "\n",
    "x1 = tf.keras.layers.Conv2D(filters=16,kernel_size=(3,3),strides=(1,1),padding='same',activation='relu',kernel_initializer='he_normal',bias_initializer='he_normal')(inputs)\n",
    "x1 = tf.keras.layers.Conv2D(filters=16,kernel_size=(3,3),strides=(1,1),padding='same',activation='relu',kernel_initializer='he_normal',bias_initializer='he_normal')(x1)\n",
    "d1 = tf.keras.layers.MaxPooling2D(pool_size=(2,2),strides=2,padding='same')(x1)\n",
    "d1 = tf.keras.layers.Dropout(rate=0.2,noise_shape='')(d1)\n",
    "\n",
    "x2 = tf.keras.layers.Conv2D(filters=32,kernel_size=(3,3),strides=(1,1),padding='same',activation='relu',kernel_initializer='he_normal',bias_initializer='he_normal')(d1)\n",
    "x2 = tf.keras.layers.Conv2D(filters=32,kernel_size=(3,3),strides=(1,1),padding='same',activation='relu',kernel_initializer='he_normal',bias_initializer='he_normal')(x2)\n",
    "d2 = tf.keras.layers.MaxPooling2D(pool_size=(2,2),strides=2,padding='same')(x2)\n",
    "d2 = tf.keras.layers.Dropout(rate=0.2,noise_shape='')(d2)\n",
    "\n",
    "x3 = tf.keras.layers.Conv2D(filters=64,kernel_size=(3,3),strides=(1,1),padding='same',activation='relu',kernel_initializer='he_normal',bias_initializer='he_normal')(d2)\n",
    "x3 = tf.keras.layers.Conv2D(filters=64,kernel_size=(3,3),strides=(1,1),padding='same',activation='relu',kernel_initializer='he_normal',bias_initializer='he_normal')(x3)\n",
    "d3 = tf.keras.layers.MaxPooling2D(pool_size=(2,2),strides=2,padding='same')(x3)\n",
    "d3 = tf.keras.layers.Dropout(rate=0.2,noise_shape='')(d3)\n",
    "\n",
    "x4 = tf.keras.layers.Conv2D(filters=128,kernel_size=(3,3),strides=(1,1),padding='same',activation='relu',kernel_initializer='he_normal',bias_initializer='he_normal')(d3)\n",
    "x4 = tf.keras.layers.Conv2D(filters=128,kernel_size=(3,3),strides=(1,1),padding='same',activation='relu',kernel_initializer='he_normal',bias_initializer='he_normal')(x4)\n",
    "d4 = tf.keras.layers.MaxPooling2D(pool_size=(2,2),strides=2,padding='same')(x4)\n",
    "d4 = tf.keras.layers.Dropout(rate=0.2,noise_shape='')(d4)\n",
    "\n",
    "x5 = tf.keras.layers.Conv2D(filters=256,kernel_size=(3,3),strides=(1,1),padding='same',activation='relu',kernel_initializer='he_normal',bias_initializer='he_normal')(d4)\n",
    "x5 = tf.keras.layers.Conv2D(filters=256,kernel_size=(3,3),strides=(1,1),padding='same',activation='relu',kernel_initializer='he_normal',bias_initializer='he_normal')(x5)\n",
    "d5 = tf.keras.layers.MaxPooling2D(pool_size=(2,2),strides=2,padding='same')(x5)\n",
    "d5 = tf.keras.layers.Dropout(rate=0.2,noise_shape='')(d5)\n",
    "\n",
    "\n",
    "\n",
    "b = tf.keras.layers.Conv2D(filters=512,kernel_size=(3,3),strides=(1,1),padding='same',activation='relu',kernel_initializer='he_normal',bias_initializer='he_normal')(d5)\n",
    "b = tf.keras.layers.Conv2D(filters=512,kernel_size=(3,3),strides=(1,1),padding='same',activation='relu',kernel_initializer='he_normal',bias_initializer='he_normal')(b)\n",
    "# b = tf.keras.layers.MaxPooling2D(pool_size=(2,2),strides=2,padding='same')(b)\n",
    "b = tf.keras.layers.Dropout(rate=0.2,noise_shape='')(b)\n",
    "\n",
    "\n",
    "\n",
    "u5 = tf.keras.layers.Conv2DTranspose(filters=256,kernel_size=(3,3),strides=(2,2),padding='same',activation='relu',kernel_initializer='he_normal',bias_initializer='he_normal')(b)\n",
    "y5 = tf.keras.layers.concatenate([u5,x5])\n",
    "y5 = tf.keras.layers.Conv2D(filters=256,kernel_size=(3,3),strides=(1,1),padding='same',activation='relu',kernel_initializer='he_normal',bias_initializer='he_normal')(y5)\n",
    "\n",
    "u4 = tf.keras.layers.Conv2DTranspose(filters=128,kernel_size=(3,3),strides=(2,2),padding='same',activation='relu',kernel_initializer='he_normal',bias_initializer='he_normal')(y5)\n",
    "y4 = tf.keras.layers.concatenate([u4,x4])\n",
    "y4 = tf.keras.layers.Conv2D(filters=128,kernel_size=(3,3),strides=(1,1),padding='same',activation='relu',kernel_initializer='he_normal',bias_initializer='he_normal')(y4)\n",
    "\n",
    "u3 = tf.keras.layers.Conv2DTranspose(filters=64,kernel_size=(3,3),strides=(2,2),padding='same',activation='relu',kernel_initializer='he_normal',bias_initializer='he_normal')(y4)\n",
    "y3 = tf.keras.layers.concatenate([u3,x3])\n",
    "y3 = tf.keras.layers.Conv2D(filters=64,kernel_size=(3,3),strides=(1,1),padding='same',activation='relu',kernel_initializer='he_normal',bias_initializer='he_normal')(y3)\n",
    "\n",
    "u2 = tf.keras.layers.Conv2DTranspose(filters=32,kernel_size=(3,3),strides=(2,2),padding='same',activation='relu',kernel_initializer='he_normal',bias_initializer='he_normal')(y3)\n",
    "y2 = tf.keras.layers.concatenate([u2,x2])\n",
    "y2 = tf.keras.layers.Conv2D(filters=32,kernel_size=(3,3),strides=(1,1),padding='same',activation='relu',kernel_initializer='he_normal',bias_initializer='he_normal')(y2)\n",
    "\n",
    "u1 = tf.keras.layers.Conv2DTranspose(filters=16,kernel_size=(3,3),strides=(2,2),padding='same',activation='relu',kernel_initializer='he_normal',bias_initializer='he_normal')(y2)\n",
    "y1 = tf.keras.layers.concatenate([u1,x1])\n",
    "y1 = tf.keras.layers.Conv2D(filters=16,kernel_size=(3,3),strides=(1,1),padding='same',activation='relu',kernel_initializer='he_normal',bias_initializer='he_normal')(y1)\n",
    "\n",
    "outputs = tf.keras.layers.Conv2D(filters=1,kernel_size=(3,3),strides=(1,1),padding='same',activation='relu',kernel_initializer='he_normal',bias_initializer='he_normal')(y1)\n",
    "\n",
    "\n",
    "model = tf.keras.Model(inputs = [inputs],outputs=[outputs])\n",
    "# model.compile(optimizer='adam',loss='binary_crossentropy',metrics=['accuracy'])\n",
    "model.summary()"
   ]
  }
 ],
 "metadata": {
  "kernelspec": {
   "display_name": "Python 3",
   "language": "python",
   "name": "python3"
  },
  "language_info": {
   "codemirror_mode": {
    "name": "ipython",
    "version": 3
   },
   "file_extension": ".py",
   "mimetype": "text/x-python",
   "name": "python",
   "nbconvert_exporter": "python",
   "pygments_lexer": "ipython3",
   "version": "3.10.7"
  }
 },
 "nbformat": 4,
 "nbformat_minor": 2
}
