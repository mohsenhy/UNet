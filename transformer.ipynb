{
 "cells": [
  {
   "cell_type": "code",
   "execution_count": 1,
   "metadata": {},
   "outputs": [],
   "source": [
    "import torch\n",
    "import torch.nn as nn\n",
    "import torchvision.transforms as transforms\n",
    "from torchvision.models import resnet50\n",
    "from einops.layers.torch import Rearrange"
   ]
  },
  {
   "cell_type": "code",
   "execution_count": 2,
   "metadata": {},
   "outputs": [],
   "source": [
    "class TransformerEncoder(nn.Module):\n",
    "    def __init__(self, embed_dim, num_heads, ff_dim, dropout=0.1):\n",
    "        super().__init__()\n",
    "        self.attention = nn.MultiheadAttention(embed_dim, num_heads, dropout=dropout)\n",
    "        self.feed_forward = nn.Sequential(nn.Linear(embed_dim, ff_dim),nn.ReLU(),nn.Dropout(dropout),nn.Linear(ff_dim, embed_dim))\n",
    "        self.layer_norm1 = nn.LayerNorm(embed_dim)\n",
    "        self.layer_norm2 = nn.LayerNorm(embed_dim)\n",
    "        self.dropout = nn.Dropout(dropout)\n",
    "\n",
    "    def forward(self, src):\n",
    "        src2 = self.layer_norm1(src)\n",
    "        q = k = v = src2\n",
    "        attn_output, _ = self.attention(q, k, v)\n",
    "        src = src + self.dropout(attn_output)\n",
    "        src2 = self.layer_norm2(src)\n",
    "        src = src + self.feed_forward(src2)\n",
    "        return src"
   ]
  },
  {
   "cell_type": "code",
   "execution_count": 18,
   "metadata": {},
   "outputs": [],
   "source": [
    "class VisionTransformerForSegmentation(nn.Module):\n",
    "    def __init__(self, num_classes, num_layers=6, num_heads=8, embed_dim=16, ff_dim=5):\n",
    "        super().__init__()\n",
    "        self.backbone = resnet50(pretrained=True)\n",
    "        self.backbone = nn.Sequential(*list(self.backbone.children())[:-2])\n",
    "        self.pos_embedding = nn.Parameter(torch.randn(1, 49 + 1, embed_dim))\n",
    "        self.patch_to_embedding = nn.Linear(2048, embed_dim)\n",
    "        self.cls_token = nn.Parameter(torch.randn(1, 1, embed_dim))\n",
    "        self.transformer_encoders = nn.ModuleList([TransformerEncoder(embed_dim, num_heads, ff_dim) for _ in range(num_layers)])\n",
    "        self.to_cls_token = nn.Identity()\n",
    "        self.mlp_head = nn.Sequential(nn.LayerNorm(embed_dim), nn.Linear(embed_dim, num_classes))\n",
    "\n",
    "    def forward(self, x):\n",
    "        x = self.backbone(x)\n",
    "        x = Rearrange('b c h w -> b (h w) c')(x)\n",
    "        x = self.patch_to_embedding(x)\n",
    "        cls_tokens = self.cls_token.expand(x.shape[0], -1, -1)\n",
    "        x = torch.cat((cls_tokens, x), dim=1)\n",
    "        x += self.pos_embedding\n",
    "        for encoder in self.transformer_encoders:\n",
    "            x = encoder(x)\n",
    "        x = self.to_cls_token(x[:, 0])\n",
    "        return self.mlp_head(x)"
   ]
  },
  {
   "cell_type": "code",
   "execution_count": null,
   "metadata": {},
   "outputs": [],
   "source": [
    "# Example usage\n",
    "model = VisionTransformerForSegmentation(num_classes=10)\n",
    "input_tensor = torch.randn(1, 3, 24, 24)  # Example input\n",
    "output = model(input_tensor)\n"
   ]
  },
  {
   "cell_type": "code",
   "execution_count": null,
   "metadata": {},
   "outputs": [],
   "source": [
    "from torchviz import make_dot\n",
    "\n",
    "make_dot(output, params=dict(list(model.named_parameters())))"
   ]
  },
  {
   "cell_type": "code",
   "execution_count": null,
   "metadata": {},
   "outputs": [],
   "source": [
    "import torch\n",
    "import torch.nn as nn\n",
    "import torchvision.transforms as transforms\n",
    "from torch.utils.data import DataLoader\n",
    "from your_dataset import YourImageDataset\n",
    "from transformer_encoder import TransformerEncoder\n",
    "from segmentation_decoder import SegmentationDecoder\n",
    "\n",
    "# Data preparation\n",
    "transform = transforms.Compose([\n",
    "    transforms.Resize((256, 256)),\n",
    "    transforms.ToTensor(),\n",
    "    transforms.Normalize(mean=[0.485, 0.456, 0.406], std=[0.229, 0.224, 0.225]),\n",
    "])\n",
    "\n",
    "dataset = YourImageDataset(root='path/to/dataset', transform=transform)\n",
    "dataloader = DataLoader(dataset, batch_size=32, shuffle=True)\n",
    "\n",
    "# Transformer model for segmentation\n",
    "class TransformerSegmentationModel(nn.Module):\n",
    "    def __init__(self):\n",
    "        super(TransformerSegmentationModel, self).__init__()\n",
    "        self.feature_extractor = nn.Conv2d(3, 512, kernel_size=3, stride=1, padding=1)\n",
    "        self.positional_encoding = PositionalEncoding()\n",
    "        self.transformer_encoder = TransformerEncoder()\n",
    "        self.decoder = SegmentationDecoder(num_classes=dataset.num_classes)\n",
    "\n",
    "    def forward(self, x):\n",
    "        x = self.feature_extractor(x)\n",
    "        x = self.positional_encoding(x)\n",
    "        x = self.transformer_encoder(x)\n",
    "        x = self.decoder(x)\n",
    "        return x\n",
    "\n",
    "model = TransformerSegmentationModel()\n",
    "\n",
    "# Training loop (pseudocode)\n",
    "for epoch in range(num_epochs):\n",
    "    for images, labels in dataloader:\n",
    "        # Forward pass\n",
    "        outputs = model(images)\n",
    "        loss = compute_loss(outputs, labels)\n",
    "\n",
    "        # Backward and optimize\n",
    "        optimizer.zero_grad()\n",
    "        loss.backward()\n",
    "        optimizer.step()\n"
   ]
  }
 ],
 "metadata": {
  "kernelspec": {
   "display_name": "Python 3",
   "language": "python",
   "name": "python3"
  },
  "language_info": {
   "codemirror_mode": {
    "name": "ipython",
    "version": 3
   },
   "file_extension": ".py",
   "mimetype": "text/x-python",
   "name": "python",
   "nbconvert_exporter": "python",
   "pygments_lexer": "ipython3",
   "version": "3.10.7"
  }
 },
 "nbformat": 4,
 "nbformat_minor": 2
}
