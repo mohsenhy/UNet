{
 "cells": [
  {
   "cell_type": "code",
   "execution_count": 2,
   "metadata": {},
   "outputs": [],
   "source": [
    "import numpy as np\n",
    "import matplotlib.pyplot as plt\n",
    "from PIL import Image\n",
    "import cv2\n",
    "\n",
    "import patchify\n",
    "import albumentations as alb\n",
    "import os"
   ]
  },
  {
   "cell_type": "code",
   "execution_count": null,
   "metadata": {},
   "outputs": [],
   "source": [
    "\"\"\" How to read image with 'matplotlib', 'PIL' and 'cv2'?\n",
    "    Show the images visually. \"\"\"\n",
    "\n",
    "img_plt = plt.imread('98157_sat.jpg')\n",
    "msk_plt = plt.imread('98157_mask.png')\n",
    "\n",
    "img_pil = Image.open('98157_sat.jpg')\n",
    "msk_pil = Image.open('98157_mask.png')\n",
    "\n",
    "img_cv = cv2.imread('98157_sat.jpg')\n",
    "msk_cv = cv2.imread('98157_mask.png')\n",
    "\n",
    "\n",
    "fig, axs = plt.subplots(3,2)\n",
    "\n",
    "axs[0,0].imshow(img_plt)\n",
    "axs[0,0].set_title('Image_plt')\n",
    "axs[0,1].imshow(msk_plt)\n",
    "axs[0,1].set_title('Mask_plt')\n",
    "\n",
    "axs[1,0].imshow(img_pil)\n",
    "axs[1,0].set_title('Image_pil')\n",
    "axs[1,1].imshow(msk_pil)\n",
    "axs[1,1].set_title('Mask_pil')\n",
    "\n",
    "axs[2,0].imshow(img_cv)\n",
    "axs[2,0].set_title('Image_cv')\n",
    "axs[2,1].imshow(msk_cv)\n",
    "axs[2,1].set_title('Mask_cv')\n",
    "\n",
    "plt.tight_layout()\n",
    "\n",
    "\n",
    "# PIL image is not array while cv and plt image are array. As below their shape are read differently.\n",
    "\n",
    "print('Size of the image and mask read by plt is {} and {} respectively.'.format(img_plt.shape,msk_plt.shape))\n",
    "print('Size and mode of image and mask read by pil is {} {} and {} {} respectively.'.format(img_pil.size,img_pil.mode,msk_pil.size,msk_pil.mode))\n",
    "print('Size of the image and mask read by cv is {} and {} respectively.'.format(img_cv.shape,msk_cv.shape))\n",
    "plt.show()"
   ]
  },
  {
   "cell_type": "code",
   "execution_count": 10,
   "metadata": {},
   "outputs": [
    {
     "data": {
      "text/plain": [
       "6226"
      ]
     },
     "execution_count": 10,
     "metadata": {},
     "output_type": "execute_result"
    }
   ],
   "source": [
    "\"\"\" - List all fles in a folder by their name look for a pattern in their name and extensions to find out image-mask pairs.\n",
    "    - Make a list of image mask pairs name for next processing. \"\"\"\n",
    "\n",
    "t = os.listdir('C:/Users/786/Desktop/Patchify_Test/train')\n",
    "x = [i.split('_')[0] for i in t if i.split('.')[-1] == 'jpg']\n",
    "y = [i.split('_')[0] for i in t if i.split('.')[-1] == 'png']\n",
    "z = [(i+'_sat.jpg',i+'_mask.png') for i in x if i in y]\n",
    "\n",
    "\"z is a list of 2-tuples of image-mask pairs\""
   ]
  },
  {
   "cell_type": "code",
   "execution_count": null,
   "metadata": {},
   "outputs": [],
   "source": []
  }
 ],
 "metadata": {
  "kernelspec": {
   "display_name": "Python 3",
   "language": "python",
   "name": "python3"
  },
  "language_info": {
   "codemirror_mode": {
    "name": "ipython",
    "version": 3
   },
   "file_extension": ".py",
   "mimetype": "text/x-python",
   "name": "python",
   "nbconvert_exporter": "python",
   "pygments_lexer": "ipython3",
   "version": "3.10.7"
  }
 },
 "nbformat": 4,
 "nbformat_minor": 2
}
